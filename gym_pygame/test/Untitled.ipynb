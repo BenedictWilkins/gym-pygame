{
 "cells": [
  {
   "cell_type": "code",
   "execution_count": 1,
   "metadata": {
    "scrolled": false
   },
   "outputs": [
    {
     "name": "stderr",
     "output_type": "stream",
     "text": [
      "C:\\Users\\gbwilkinsb\\Anaconda3\\envs\\sony\\lib\\site-packages\\ray\\autoscaler\\_private\\cli_logger.py:61: FutureWarning: Not all Ray CLI dependencies were found. In Ray 1.4+, the Ray CLI, autoscaler, and dashboard will only be usable via `pip install 'ray[default]'`. Please update your install command.\n",
      "  \"update your install command.\", FutureWarning)\n"
     ]
    },
    {
     "name": "stdout",
     "output_type": "stream",
     "text": [
      "(13, 15) (13, 3)\n",
      "[ 0.          0.          1.          0.          0.          0.\n",
      "  0.         -0.          0.96532714  0.          0.931955    0.\n",
      " -0.09492119  0.          0.        ]\n",
      "3\n",
      "[ 0.96532714  0.          0.931955    0.         -0.09492119  0.        ]\n"
     ]
    },
    {
     "name": "stderr",
     "output_type": "stream",
     "text": [
      "C:\\Users\\gbwilkinsb\\Anaconda3\\envs\\sony\\lib\\site-packages\\gym\\logger.py:30: UserWarning: \u001b[33mWARN: Box bound precision lowered by casting to float32\u001b[0m\n",
      "  warnings.warn(colorize('%s: %s'%('WARN', msg % args), 'yellow'))\n"
     ]
    }
   ],
   "source": [
    "from pybullet_envs.gym_locomotion_envs import HopperBulletEnv\n",
    "import numpy as np\n",
    "\n",
    "from gym_pygame.visualise.pybullet import LocomotionVisualiser\n",
    "import gymu\n",
    "\n",
    "env = HopperBulletEnv()\n",
    "s, a = gymu.episode(env, lambda _: env.action_space.sample(), mode=gymu.mode.sa)\n",
    "print(s.shape, a.shape)\n",
    "\n",
    "\n",
    "vis = LocomotionVisualiser(env)\n",
    "vis.render(s[0])\n",
    "\n",
    "\n"
   ]
  },
  {
   "cell_type": "code",
   "execution_count": null,
   "metadata": {},
   "outputs": [],
   "source": []
  },
  {
   "cell_type": "code",
   "execution_count": null,
   "metadata": {},
   "outputs": [],
   "source": []
  },
  {
   "cell_type": "code",
   "execution_count": null,
   "metadata": {},
   "outputs": [],
   "source": []
  }
 ],
 "metadata": {
  "kernelspec": {
   "display_name": "sony",
   "language": "python",
   "name": "sony"
  },
  "language_info": {
   "codemirror_mode": {
    "name": "ipython",
    "version": 3
   },
   "file_extension": ".py",
   "mimetype": "text/x-python",
   "name": "python",
   "nbconvert_exporter": "python",
   "pygments_lexer": "ipython3",
   "version": "3.7.10"
  }
 },
 "nbformat": 4,
 "nbformat_minor": 4
}
